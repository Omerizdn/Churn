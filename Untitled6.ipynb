{
  "nbformat": 4,
  "nbformat_minor": 0,
  "metadata": {
    "colab": {
      "provenance": [],
      "authorship_tag": "ABX9TyNSpeEcs/x26H1CTpC5w9us",
      "include_colab_link": true
    },
    "kernelspec": {
      "name": "ir",
      "display_name": "R"
    },
    "language_info": {
      "name": "R"
    }
  },
  "cells": [
    {
      "cell_type": "markdown",
      "metadata": {
        "id": "view-in-github",
        "colab_type": "text"
      },
      "source": [
        "<a href=\"https://colab.research.google.com/github/Omerizdn/Churn/blob/main/Untitled6.ipynb\" target=\"_parent\"><img src=\"https://colab.research.google.com/assets/colab-badge.svg\" alt=\"Open In Colab\"/></a>"
      ]
    },
    {
      "cell_type": "code",
      "source": [
        "loadLibraries = function(libraries) {\n",
        "    for(lib in libraries) {\n",
        "        eval(parse(text = sprintf(\"library(%s)\", lib)))\n",
        "        #install.packages(lib)\n",
        "        #trycatch\n",
        "    }\n",
        "}"
      ],
      "metadata": {
        "id": "28hJzXzk8EBM"
      },
      "execution_count": 1,
      "outputs": []
    },
    {
      "cell_type": "code",
      "source": [
        "libraries = c(\"tidyverse\", \"leaflet\", \"rgdal\", \"stringr\", \"htmltab\", \"ggplot2\", \"GGally\", \"factoextra\", \"magrittr\", \"dplyr\", \"cluster\", \"mclust\", \"kernlab\")\n",
        "loadLibraries(libraries)\n",
        "\n",
        "rm(list = ls())"
      ],
      "metadata": {
        "colab": {
          "base_uri": "https://localhost:8080/",
          "height": 366
        },
        "id": "phiCpvzk_jru",
        "outputId": "877a6328-f1fe-4b00-dc52-5dc7cf42d572"
      },
      "execution_count": 2,
      "outputs": [
        {
          "output_type": "stream",
          "name": "stderr",
          "text": [
            "── \u001b[1mAttaching core tidyverse packages\u001b[22m ──────────────────────── tidyverse 2.0.0 ──\n",
            "\u001b[32m✔\u001b[39m \u001b[34mdplyr    \u001b[39m 1.1.3     \u001b[32m✔\u001b[39m \u001b[34mreadr    \u001b[39m 2.1.4\n",
            "\u001b[32m✔\u001b[39m \u001b[34mforcats  \u001b[39m 1.0.0     \u001b[32m✔\u001b[39m \u001b[34mstringr  \u001b[39m 1.5.0\n",
            "\u001b[32m✔\u001b[39m \u001b[34mggplot2  \u001b[39m 3.4.3     \u001b[32m✔\u001b[39m \u001b[34mtibble   \u001b[39m 3.2.1\n",
            "\u001b[32m✔\u001b[39m \u001b[34mlubridate\u001b[39m 1.9.3     \u001b[32m✔\u001b[39m \u001b[34mtidyr    \u001b[39m 1.3.0\n",
            "\u001b[32m✔\u001b[39m \u001b[34mpurrr    \u001b[39m 1.0.2     \n",
            "── \u001b[1mConflicts\u001b[22m ────────────────────────────────────────── tidyverse_conflicts() ──\n",
            "\u001b[31m✖\u001b[39m \u001b[34mdplyr\u001b[39m::\u001b[32mfilter()\u001b[39m masks \u001b[34mstats\u001b[39m::filter()\n",
            "\u001b[31m✖\u001b[39m \u001b[34mdplyr\u001b[39m::\u001b[32mlag()\u001b[39m    masks \u001b[34mstats\u001b[39m::lag()\n",
            "\u001b[36mℹ\u001b[39m Use the conflicted package (\u001b[3m\u001b[34m<http://conflicted.r-lib.org/>\u001b[39m\u001b[23m) to force all conflicts to become errors\n"
          ]
        },
        {
          "output_type": "error",
          "ename": "ERROR",
          "evalue": "ignored",
          "traceback": [
            "Error in library(leaflet): there is no package called ‘leaflet’\nTraceback:\n",
            "1. loadLibraries(libraries)",
            "2. eval(parse(text = sprintf(\"library(%s)\", lib)))   # at line 3 of file <text>",
            "3. eval(parse(text = sprintf(\"library(%s)\", lib)))",
            "4. library(leaflet)"
          ]
        }
      ]
    },
    {
      "cell_type": "code",
      "source": [
        "customers.df = read.csv(\"Churn.csv\", stringsAsFactors = TRUE)"
      ],
      "metadata": {
        "id": "iND81oQg_y5y"
      },
      "execution_count": 3,
      "outputs": []
    },
    {
      "cell_type": "code",
      "source": [
        "glimpse(customers.df)"
      ],
      "metadata": {
        "colab": {
          "base_uri": "https://localhost:8080/"
        },
        "id": "iTYDeS14AAKh",
        "outputId": "4427f06c-6c8e-4303-ff6d-7c47842f1bf6"
      },
      "execution_count": 4,
      "outputs": [
        {
          "output_type": "stream",
          "name": "stdout",
          "text": [
            "Rows: 100,000\n",
            "Columns: 100\n",
            "$ rev_Mean         \u001b[3m\u001b[90m<dbl>\u001b[39m\u001b[23m 23.9975, 57.4925, 16.9900, 38.0000, 55.2300, 82.2750,…\n",
            "$ mou_Mean         \u001b[3m\u001b[90m<dbl>\u001b[39m\u001b[23m 219.25, 482.75, 10.25, 7.50, 570.50, 1312.25, 0.00, 6…\n",
            "$ totmrc_Mean      \u001b[3m\u001b[90m<dbl>\u001b[39m\u001b[23m 22.500, 37.425, 16.990, 38.000, 71.980, 75.000, 16.99…\n",
            "$ da_Mean          \u001b[3m\u001b[90m<dbl>\u001b[39m\u001b[23m 0.2475, 0.2475, 0.0000, 0.0000, 0.0000, 1.2375, 0.000…\n",
            "$ ovrmou_Mean      \u001b[3m\u001b[90m<dbl>\u001b[39m\u001b[23m 0.00, 22.75, 0.00, 0.00, 0.00, 0.00, 0.00, 0.00, 419.…\n",
            "$ ovrrev_Mean      \u001b[3m\u001b[90m<dbl>\u001b[39m\u001b[23m 0.0000, 9.1000, 0.0000, 0.0000, 0.0000, 0.0000, 0.000…\n",
            "$ vceovr_Mean      \u001b[3m\u001b[90m<dbl>\u001b[39m\u001b[23m 0.0000, 9.1000, 0.0000, 0.0000, 0.0000, 0.0000, 0.000…\n",
            "$ datovr_Mean      \u001b[3m\u001b[90m<dbl>\u001b[39m\u001b[23m 0.000, 0.000, 0.000, 0.000, 0.000, 0.000, 0.000, 0.00…\n",
            "$ roam_Mean        \u001b[3m\u001b[90m<dbl>\u001b[39m\u001b[23m 0.0000, 0.0000, 0.0000, 0.0000, 0.0000, 0.0000, 0.000…\n",
            "$ change_mou       \u001b[3m\u001b[90m<dbl>\u001b[39m\u001b[23m -157.25, 532.25, -4.25, -1.50, 38.50, 156.75, 0.00, 1…\n",
            "$ change_rev       \u001b[3m\u001b[90m<dbl>\u001b[39m\u001b[23m -18.9975, 50.9875, 0.0000, 0.0000, 0.0000, 8.1450, -0…\n",
            "$ drop_vce_Mean    \u001b[3m\u001b[90m<dbl>\u001b[39m\u001b[23m 0.6666667, 8.3333333, 0.3333333, 0.0000000, 9.6666667…\n",
            "$ drop_dat_Mean    \u001b[3m\u001b[90m<dbl>\u001b[39m\u001b[23m 0, 0, 0, 0, 0, 0, 0, 0, 0, 0, 0, 0, 0, 0, 0, 0, 0, 0,…\n",
            "$ blck_vce_Mean    \u001b[3m\u001b[90m<dbl>\u001b[39m\u001b[23m 0.6666667, 1.0000000, 0.0000000, 0.0000000, 0.6666667…\n",
            "$ blck_dat_Mean    \u001b[3m\u001b[90m<dbl>\u001b[39m\u001b[23m 0, 0, 0, 0, 0, 0, 0, 0, 0, 0, 0, 0, 0, 0, 0, 0, 0, 0,…\n",
            "$ unan_vce_Mean    \u001b[3m\u001b[90m<dbl>\u001b[39m\u001b[23m 6.3333333, 61.3333333, 2.6666667, 0.0000000, 77.00000…\n",
            "$ unan_dat_Mean    \u001b[3m\u001b[90m<dbl>\u001b[39m\u001b[23m 0, 0, 0, 0, 0, 0, 0, 0, 0, 0, 0, 0, 0, 0, 0, 0, 0, 0,…\n",
            "$ plcd_vce_Mean    \u001b[3m\u001b[90m<dbl>\u001b[39m\u001b[23m 52.333333, 263.333333, 9.000000, 3.666667, 222.333333…\n",
            "$ plcd_dat_Mean    \u001b[3m\u001b[90m<dbl>\u001b[39m\u001b[23m 0.0000000, 0.0000000, 0.0000000, 0.0000000, 0.0000000…\n",
            "$ recv_vce_Mean    \u001b[3m\u001b[90m<dbl>\u001b[39m\u001b[23m 42.3333333, 69.0000000, 0.3333333, 1.3333333, 94.6666…\n",
            "$ recv_sms_Mean    \u001b[3m\u001b[90m<dbl>\u001b[39m\u001b[23m 0, 0, 0, 0, 0, 0, 0, 0, 0, 0, 0, 0, 0, 0, 0, 0, 0, 0,…\n",
            "$ comp_vce_Mean    \u001b[3m\u001b[90m<dbl>\u001b[39m\u001b[23m 45.000000, 193.333333, 6.000000, 3.666667, 137.000000…\n",
            "$ comp_dat_Mean    \u001b[3m\u001b[90m<dbl>\u001b[39m\u001b[23m 0.0000000, 0.0000000, 0.0000000, 0.0000000, 0.0000000…\n",
            "$ custcare_Mean    \u001b[3m\u001b[90m<dbl>\u001b[39m\u001b[23m 0.0000000, 1.6666667, 0.0000000, 0.0000000, 8.6666667…\n",
            "$ ccrndmou_Mean    \u001b[3m\u001b[90m<dbl>\u001b[39m\u001b[23m 0.0000000, 6.3333333, 0.0000000, 0.0000000, 15.000000…\n",
            "$ cc_mou_Mean      \u001b[3m\u001b[90m<dbl>\u001b[39m\u001b[23m 0.0000000, 5.4633333, 0.0000000, 0.0000000, 11.076666…\n",
            "$ inonemin_Mean    \u001b[3m\u001b[90m<dbl>\u001b[39m\u001b[23m 18.0000000, 53.0000000, 0.3333333, 1.3333333, 66.0000…\n",
            "$ threeway_Mean    \u001b[3m\u001b[90m<dbl>\u001b[39m\u001b[23m 0.0000000, 0.3333333, 0.0000000, 0.0000000, 0.0000000…\n",
            "$ mou_cvce_Mean    \u001b[3m\u001b[90m<dbl>\u001b[39m\u001b[23m 90.643333, 189.396667, 5.426667, 8.410000, 285.233333…\n",
            "$ mou_cdat_Mean    \u001b[3m\u001b[90m<dbl>\u001b[39m\u001b[23m 0.00000000, 0.00000000, 0.00000000, 0.00000000, 0.000…\n",
            "$ mou_rvce_Mean    \u001b[3m\u001b[90m<dbl>\u001b[39m\u001b[23m 97.1766667, 55.2800000, 0.0000000, 0.4133333, 106.330…\n",
            "$ owylis_vce_Mean  \u001b[3m\u001b[90m<dbl>\u001b[39m\u001b[23m 0.0000000, 46.3333333, 0.0000000, 0.3333333, 14.66666…\n",
            "$ mouowylisv_Mean  \u001b[3m\u001b[90m<dbl>\u001b[39m\u001b[23m 0.00000000, 24.21666667, 0.00000000, 0.25666667, 10.8…\n",
            "$ iwylis_vce_Mean  \u001b[3m\u001b[90m<dbl>\u001b[39m\u001b[23m 0.0000000, 6.3333333, 0.0000000, 0.0000000, 0.6666667…\n",
            "$ mouiwylisv_Mean  \u001b[3m\u001b[90m<dbl>\u001b[39m\u001b[23m 0.00000000, 3.69666667, 0.00000000, 0.00000000, 0.366…\n",
            "$ peak_vce_Mean    \u001b[3m\u001b[90m<dbl>\u001b[39m\u001b[23m 58.0000000, 83.6666667, 5.0000000, 1.3333333, 97.3333…\n",
            "$ peak_dat_Mean    \u001b[3m\u001b[90m<dbl>\u001b[39m\u001b[23m 0.0000000, 0.0000000, 0.0000000, 0.0000000, 0.0000000…\n",
            "$ mou_peav_Mean    \u001b[3m\u001b[90m<dbl>\u001b[39m\u001b[23m 132.600000, 75.333333, 5.193333, 3.380000, 173.476667…\n",
            "$ mou_pead_Mean    \u001b[3m\u001b[90m<dbl>\u001b[39m\u001b[23m 0.00000000, 0.00000000, 0.00000000, 0.00000000, 0.000…\n",
            "$ opk_vce_Mean     \u001b[3m\u001b[90m<dbl>\u001b[39m\u001b[23m 24.0000000, 157.0000000, 1.0000000, 3.6666667, 90.333…\n",
            "$ opk_dat_Mean     \u001b[3m\u001b[90m<dbl>\u001b[39m\u001b[23m 0.000000, 0.000000, 0.000000, 0.000000, 0.000000, 0.0…\n",
            "$ mou_opkv_Mean    \u001b[3m\u001b[90m<dbl>\u001b[39m\u001b[23m 55.2200000, 169.3433333, 0.2333333, 5.4500000, 218.08…\n",
            "$ mou_opkd_Mean    \u001b[3m\u001b[90m<dbl>\u001b[39m\u001b[23m 0.000000, 0.000000, 0.000000, 0.000000, 0.000000, 0.0…\n",
            "$ drop_blk_Mean    \u001b[3m\u001b[90m<dbl>\u001b[39m\u001b[23m 1.3333333, 9.3333333, 0.3333333, 0.0000000, 10.333333…\n",
            "$ attempt_Mean     \u001b[3m\u001b[90m<dbl>\u001b[39m\u001b[23m 52.333333, 263.333333, 9.000000, 3.666667, 222.333333…\n",
            "$ complete_Mean    \u001b[3m\u001b[90m<dbl>\u001b[39m\u001b[23m 45.000000, 193.333333, 6.000000, 3.666667, 137.000000…\n",
            "$ callfwdv_Mean    \u001b[3m\u001b[90m<dbl>\u001b[39m\u001b[23m 0, 0, 0, 0, 0, 0, 0, 0, 0, 0, 0, 0, 0, 0, 0, 0, 0, 0,…\n",
            "$ callwait_Mean    \u001b[3m\u001b[90m<dbl>\u001b[39m\u001b[23m 0.3333333, 5.6666667, 0.0000000, 0.0000000, 0.0000000…\n",
            "$ churn            \u001b[3m\u001b[90m<int>\u001b[39m\u001b[23m 1, 0, 1, 0, 0, 0, 1, 0, 0, 0, 0, 0, 0, 0, 0, 0, 0, 0,…\n",
            "$ months           \u001b[3m\u001b[90m<int>\u001b[39m\u001b[23m 61, 56, 58, 60, 57, 59, 53, 53, 55, 57, 59, 53, 55, 5…\n",
            "$ uniqsubs         \u001b[3m\u001b[90m<int>\u001b[39m\u001b[23m 2, 1, 1, 1, 1, 2, 2, 1, 1, 2, 2, 3, 1, 2, 5, 2, 1, 3,…\n",
            "$ actvsubs         \u001b[3m\u001b[90m<int>\u001b[39m\u001b[23m 1, 1, 1, 1, 1, 2, 2, 1, 1, 2, 2, 3, 1, 2, 1, 2, 1, 2,…\n",
            "$ new_cell         \u001b[3m\u001b[90m<fct>\u001b[39m\u001b[23m U, N, Y, Y, Y, Y, N, Y, Y, N, Y, Y, Y, Y, Y, N, N, N,…\n",
            "$ crclscod         \u001b[3m\u001b[90m<fct>\u001b[39m\u001b[23m A, EA, C, B, A, C, A, B, B, A, A, A, BA, A, C, B, B, …\n",
            "$ asl_flag         \u001b[3m\u001b[90m<fct>\u001b[39m\u001b[23m N, N, N, N, N, N, N, N, N, N, N, N, N, N, N, N, N, N,…\n",
            "$ totcalls         \u001b[3m\u001b[90m<int>\u001b[39m\u001b[23m 1652, 14654, 7903, 1502, 4485, 26812, 6279, 4491, 167…\n",
            "$ totmou           \u001b[3m\u001b[90m<dbl>\u001b[39m\u001b[23m 4228.000, 26400.000, 24385.053, 3065.000, 14028.000, …\n",
            "$ totrev           \u001b[3m\u001b[90m<dbl>\u001b[39m\u001b[23m 1504.62, 2851.68, 2155.91, 2000.90, 2181.12, 4033.98,…\n",
            "$ adjrev           \u001b[3m\u001b[90m<dbl>\u001b[39m\u001b[23m 1453.44, 2833.88, 1934.47, 1941.81, 2166.48, 3932.90,…\n",
            "$ adjmou           \u001b[3m\u001b[90m<dbl>\u001b[39m\u001b[23m 4085.00, 26367.00, 24303.05, 3035.00, 13965.00, 40295…\n",
            "$ adjqty           \u001b[3m\u001b[90m<int>\u001b[39m\u001b[23m 1602, 14624, 7888, 1479, 4452, 26362, 6271, 4470, 165…\n",
            "$ avgrev           \u001b[3m\u001b[90m<dbl>\u001b[39m\u001b[23m 29.66, 51.53, 34.54, 40.45, 38.69, 83.68, 58.95, 34.7…\n",
            "$ avgmou           \u001b[3m\u001b[90m<dbl>\u001b[39m\u001b[23m 83.37, 479.40, 433.98, 63.23, 249.38, 857.34, 334.06,…\n",
            "$ avgqty           \u001b[3m\u001b[90m<dbl>\u001b[39m\u001b[23m 32.69, 265.89, 140.86, 30.81, 79.50, 560.89, 120.60, …\n",
            "$ avg3mou          \u001b[3m\u001b[90m<int>\u001b[39m\u001b[23m 272, 305, 12, 8, 558, 1260, 0, 633, 973, 6, 90, 18, 1…\n",
            "$ avg3qty          \u001b[3m\u001b[90m<int>\u001b[39m\u001b[23m 116, 158, 7, 3, 191, 960, 0, 96, 465, 3, 16, 13, 625,…\n",
            "$ avg3rev          \u001b[3m\u001b[90m<int>\u001b[39m\u001b[23m 30, 40, 17, 38, 55, 80, 17, 39, 90, 30, 60, 36, 80, 2…\n",
            "$ avg6mou          \u001b[3m\u001b[90m<int>\u001b[39m\u001b[23m 322, 477, 11, 50, 586, 1187, 0, 719, 915, 54, 123, 36…\n",
            "$ avg6qty          \u001b[3m\u001b[90m<int>\u001b[39m\u001b[23m 136, 275, 6, 25, 196, 853, 0, 112, 434, 7, 32, 26, 62…\n",
            "$ avg6rev          \u001b[3m\u001b[90m<int>\u001b[39m\u001b[23m 38, 48, 17, 40, 80, 78, 17, 58, 90, 34, 64, 36, 76, 2…\n",
            "$ prizm_social_one \u001b[3m\u001b[90m<fct>\u001b[39m\u001b[23m S, U, S, T, U, U, C, , S, C, C, C, U, C, S, S, T, U, …\n",
            "$ area             \u001b[3m\u001b[90m<fct>\u001b[39m\u001b[23m NORTHWEST/ROCKY MOUNTAIN AREA, CHICAGO AREA, GREAT LA…\n",
            "$ dualband         \u001b[3m\u001b[90m<fct>\u001b[39m\u001b[23m Y, N, N, N, Y, N, Y, Y, Y, Y, Y, N, Y, Y, Y, Y, N, N,…\n",
            "$ refurb_new       \u001b[3m\u001b[90m<fct>\u001b[39m\u001b[23m N, N, N, N, N, N, N, N, N, N, N, N, N, N, N, N, N, N,…\n",
            "$ hnd_price        \u001b[3m\u001b[90m<dbl>\u001b[39m\u001b[23m 149.98999, NA, 29.98999, 29.98999, 149.98999, 129.989…\n",
            "$ phones           \u001b[3m\u001b[90m<int>\u001b[39m\u001b[23m 2, 7, 2, 1, 6, 9, 4, 3, 3, 2, 3, 4, 9, 2, 10, 5, 3, 6…\n",
            "$ models           \u001b[3m\u001b[90m<int>\u001b[39m\u001b[23m 2, 6, 1, 1, 4, 4, 3, 2, 3, 2, 3, 3, 5, 2, 6, 4, 2, 5,…\n",
            "$ hnd_webcap       \u001b[3m\u001b[90m<fct>\u001b[39m\u001b[23m WCMB, WC, NA, NA, WCMB, WCMB, NA, WCMB, NA, WCMB, WCM…\n",
            "$ truck            \u001b[3m\u001b[90m<int>\u001b[39m\u001b[23m 0, 1, 0, 0, 0, 0, 0, 0, 0, 0, 0, 0, 0, 1, 0, 0, 0, 1,…\n",
            "$ rv               \u001b[3m\u001b[90m<int>\u001b[39m\u001b[23m 0, 1, 0, 0, 0, 0, 0, 0, 0, 0, 0, 0, 0, 0, 0, 0, 0, 1,…\n",
            "$ ownrent          \u001b[3m\u001b[90m<fct>\u001b[39m\u001b[23m O, , O, , R, O, O, R, , O, O, O, O, , O, O, O, O, O, …\n",
            "$ lor              \u001b[3m\u001b[90m<int>\u001b[39m\u001b[23m 15, 1, 7, 6, 5, 1, 8, 0, 3, 8, 15, 4, 15, 1, 11, 4, 3…\n",
            "$ dwlltype         \u001b[3m\u001b[90m<fct>\u001b[39m\u001b[23m S, S, S, M, M, , S, S, M, S, S, S, S, S, S, M, S, S, …\n",
            "$ marital          \u001b[3m\u001b[90m<fct>\u001b[39m\u001b[23m S, S, M, M, S, S, M, M, M, M, S, A, S, U, S, U, U, S,…\n",
            "$ adults           \u001b[3m\u001b[90m<int>\u001b[39m\u001b[23m 1, 1, 2, 4, 1, 1, 3, 2, 3, 2, 5, 3, 3, 1, 3, 3, 2, 5,…\n",
            "$ infobase         \u001b[3m\u001b[90m<fct>\u001b[39m\u001b[23m M, M, M, M, M, M, M, M, M, M, M, M, M, M, M, M, M, M,…\n",
            "$ income           \u001b[3m\u001b[90m<int>\u001b[39m\u001b[23m 4, 5, 5, 6, 6, 6, 9, 1, 4, 9, 6, 9, 5, 7, 3, 1, 3, 4,…\n",
            "$ numbcars         \u001b[3m\u001b[90m<int>\u001b[39m\u001b[23m 3, 1, 2, 1, 1, 1, NA, 2, 1, 2, NA, NA, NA, NA, 2, NA,…\n",
            "$ HHstatin         \u001b[3m\u001b[90m<fct>\u001b[39m\u001b[23m C, C, C, C, C, C, I, C, C, I, C, , B, A, I, , C, C, C…\n",
            "$ dwllsize         \u001b[3m\u001b[90m<fct>\u001b[39m\u001b[23m A, A, A, D, O, , A, A, E, A, A, A, A, A, A, , A, A, A…\n",
            "$ forgntvl         \u001b[3m\u001b[90m<int>\u001b[39m\u001b[23m 0, 0, 0, 0, 0, 0, 0, 1, 0, 1, 0, 0, 0, 0, 0, 0, 0, 0,…\n",
            "$ ethnic           \u001b[3m\u001b[90m<fct>\u001b[39m\u001b[23m N, Z, N, U, I, U, N, S, F, N, N, N, J, N, N, N, N, N,…\n",
            "$ kid0_2           \u001b[3m\u001b[90m<fct>\u001b[39m\u001b[23m U, U, U, Y, U, U, U, U, U, U, Y, U, U, U, U, U, U, U,…\n",
            "$ kid3_5           \u001b[3m\u001b[90m<fct>\u001b[39m\u001b[23m U, U, Y, U, U, U, U, U, U, U, U, U, U, U, U, Y, U, U,…\n",
            "$ kid6_10          \u001b[3m\u001b[90m<fct>\u001b[39m\u001b[23m U, U, U, U, U, U, U, U, U, U, U, Y, U, U, Y, U, U, U,…\n",
            "$ kid11_15         \u001b[3m\u001b[90m<fct>\u001b[39m\u001b[23m U, U, U, U, U, U, U, U, U, U, U, Y, U, U, U, U, U, U,…\n",
            "$ kid16_17         \u001b[3m\u001b[90m<fct>\u001b[39m\u001b[23m U, U, U, U, U, U, U, U, U, U, U, U, U, U, U, U, U, Y,…\n",
            "$ creditcd         \u001b[3m\u001b[90m<fct>\u001b[39m\u001b[23m Y, Y, Y, Y, Y, Y, Y, Y, N, Y, Y, Y, Y, N, Y, Y, Y, Y,…\n",
            "$ eqpdays          \u001b[3m\u001b[90m<int>\u001b[39m\u001b[23m 361, 240, 1504, 1812, 434, 458, 852, 231, 700, 601, 4…\n",
            "$ Customer_ID      \u001b[3m\u001b[90m<int>\u001b[39m\u001b[23m 1000001, 1000002, 1000003, 1000004, 1000005, 1000006,…\n"
          ]
        }
      ]
    },
    {
      "cell_type": "code",
      "source": [
        "hist(rowMeans(is.na(customers.df)), xlab = c(\"Missing values average by rows\"), main = c())"
      ],
      "metadata": {
        "colab": {
          "base_uri": "https://localhost:8080/",
          "height": 437
        },
        "id": "2OlmLpfkAJtz",
        "outputId": "1541106c-40b9-4e50-b23d-e3d62be65a25"
      },
      "execution_count": 5,
      "outputs": [
        {
          "output_type": "display_data",
          "data": {
            "text/plain": [
              "plot without title"
            ],
            "image/png": "[encoded data removed]"
          },
          "metadata": {
            "image/png": {
              "width": 420,
              "height": 420
            }
          }
        }
      ]
    },
    {
      "cell_type": "code",
      "source": [
        "indexesEmptyCols = which(colMeans(is.na(customers.df)) != 0)\n",
        "colsWithNA = sort(colMeans(is.na(customers.df[, indexesEmptyCols])), decreasing = TRUE)\n",
        "barplot(colsWithNA, las=2)"
      ],
      "metadata": {
        "colab": {
          "base_uri": "https://localhost:8080/",
          "height": 437
        },
        "id": "lKZQR4SEAVBO",
        "outputId": "f62a16f1-be8a-4b09-dc77-f25cb3ac2745"
      },
      "execution_count": 6,
      "outputs": [
        {
          "output_type": "display_data",
          "data": {
            "text/plain": [
              "plot without title"
            ],
            "image/png": "[encoded data removed]"
          },
          "metadata": {
            "image/png": {
              "width": 420,
              "height": 420
            }
          }
        }
      ]
    },
    {
      "cell_type": "code",
      "source": [
        "indexesColsToRemove = c()\n",
        "for (i in names(colsWithNA)[1:5]) {\n",
        "    indexesColsToRemove = c(indexesColsToRemove, which(names(customers.df) == i))\n",
        "}\n",
        "\n",
        "customers.df = customers.df[, -indexesColsToRemove]"
      ],
      "metadata": {
        "id": "DYvAzI0fAf0E"
      },
      "execution_count": 7,
      "outputs": []
    },
    {
      "cell_type": "code",
      "source": [
        "indexesEmptyRows = which(rowMeans(is.na(customers.df))!= 0)\n",
        "print(length(indexesEmptyRows))"
      ],
      "metadata": {
        "colab": {
          "base_uri": "https://localhost:8080/"
        },
        "id": "3Vt3MlX5AjN6",
        "outputId": "df24cf78-52bf-42a9-eeca-5543f848082c"
      },
      "execution_count": 8,
      "outputs": [
        {
          "output_type": "stream",
          "name": "stdout",
          "text": [
            "[1] 6069\n"
          ]
        }
      ]
    },
    {
      "cell_type": "code",
      "source": [
        "customers.df = customers.df[-indexesEmptyRows,]"
      ],
      "metadata": {
        "id": "t4PlE3yjAnJh"
      },
      "execution_count": 9,
      "outputs": []
    },
    {
      "cell_type": "code",
      "source": [
        "print(length(which(is.na(customers.df) == TRUE)))\n",
        "\n",
        "rm(list = setdiff(ls(), \"customers.df\"))"
      ],
      "metadata": {
        "colab": {
          "base_uri": "https://localhost:8080/"
        },
        "id": "tsVFQPrVAtDU",
        "outputId": "bbb9d188-ea4a-4029-a494-ec95217cc1a4"
      },
      "execution_count": 10,
      "outputs": [
        {
          "output_type": "stream",
          "name": "stdout",
          "text": [
            "[1] 0\n"
          ]
        }
      ]
    },
    {
      "cell_type": "code",
      "source": [
        "customers.df = droplevels.data.frame(customers.df)\n",
        "\n",
        "colsWithEmptyFactors.df = data.frame(colName = character(), index = integer(), naNumber = integer(),\n",
        "                                     stringsAsFactors = FALSE)\n",
        "\n",
        "for (i in 1:ncol(customers.df)) {\n",
        "    levels = levels(customers.df[, i])\n",
        "    if (\"\" %in% levels) {\n",
        "        colsWithEmptyFactors.df = rbind(colsWithEmptyFactors.df, data.frame(colName = names(customers.df)[i], index = i, naNumber = 0,\n",
        "                                                                            stringsAsFactors = FALSE))\n",
        "    }\n",
        "}"
      ],
      "metadata": {
        "id": "M6tOam-ZA1wX"
      },
      "execution_count": 11,
      "outputs": []
    },
    {
      "cell_type": "code",
      "source": [
        "for (i in 1:nrow(colsWithEmptyFactors.df)) {\n",
        "    index = colsWithEmptyFactors.df$index[i]\n",
        "\n",
        "    level = levels(customers.df[, index])\n",
        "    level[which(level == \"\")] = NA\n",
        "    levels(customers.df[, index]) = level\n",
        "\n",
        "    colsWithEmptyFactors.df[i, 3] = length(which(is.na(customers.df[, index]) == TRUE))\n",
        "}\n",
        "print(colsWithEmptyFactors.df)"
      ],
      "metadata": {
        "colab": {
          "base_uri": "https://localhost:8080/"
        },
        "id": "eH1-B6PRA59M",
        "outputId": "5f1a58e3-a369-402b-dbbf-a49caf7c844d"
      },
      "execution_count": 12,
      "outputs": [
        {
          "output_type": "stream",
          "name": "stdout",
          "text": [
            "           colName index naNumber\n",
            "1 prizm_social_one    71     6334\n",
            "2             area    72       38\n",
            "3          ownrent    80    30225\n",
            "4         dwlltype    81    28518\n",
            "5         infobase    83    19206\n",
            "6         HHstatin    84    34122\n",
            "7         dwllsize    85    34639\n"
          ]
        }
      ]
    },
    {
      "cell_type": "code",
      "source": [
        "customers.df = customers.df[, -colsWithEmptyFactors.df$index[3:nrow(colsWithEmptyFactors.df)]]"
      ],
      "metadata": {
        "id": "MzLe7IkeA8y3"
      },
      "execution_count": 13,
      "outputs": []
    },
    {
      "cell_type": "code",
      "source": [
        "indexesEmptyRows = which(rowMeans(is.na(customers.df))!= 0)\n",
        "length(indexesEmptyRows)"
      ],
      "metadata": {
        "colab": {
          "base_uri": "https://localhost:8080/",
          "height": 34
        },
        "id": "mpPEFr4cBC5M",
        "outputId": "0fc7e7b1-0847-4055-d2c7-43281392dd32"
      },
      "execution_count": 14,
      "outputs": [
        {
          "output_type": "display_data",
          "data": {
            "text/html": [
              "6370"
            ],
            "text/markdown": "6370",
            "text/latex": "6370",
            "text/plain": [
              "[1] 6370"
            ]
          },
          "metadata": {}
        }
      ]
    },
    {
      "cell_type": "code",
      "source": [
        "customers.df = customers.df[-indexesEmptyRows,]\n",
        "\n",
        "print(length(which(is.na(customers.df) == TRUE)))"
      ],
      "metadata": {
        "colab": {
          "base_uri": "https://localhost:8080/"
        },
        "id": "CakteryzBGUU",
        "outputId": "dc34b987-88ca-421f-ca24-79593dbdd6b0"
      },
      "execution_count": 15,
      "outputs": [
        {
          "output_type": "stream",
          "name": "stdout",
          "text": [
            "[1] 0\n"
          ]
        }
      ]
    },
    {
      "cell_type": "code",
      "source": [
        "length(which(duplicated(customers.df) == TRUE))"
      ],
      "metadata": {
        "colab": {
          "base_uri": "https://localhost:8080/",
          "height": 34
        },
        "id": "GYh8mBiQBJfU",
        "outputId": "31008a2c-0dd9-4d8b-9f2f-d28f20a6f3c4"
      },
      "execution_count": 16,
      "outputs": [
        {
          "output_type": "display_data",
          "data": {
            "text/html": [
              "0"
            ],
            "text/markdown": "0",
            "text/latex": "0",
            "text/plain": [
              "[1] 0"
            ]
          },
          "metadata": {}
        }
      ]
    }
  ]
}