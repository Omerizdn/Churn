{
  "nbformat": 4,
  "nbformat_minor": 0,
  "metadata": {
    "colab": {
      "provenance": []
    },
    "kernelspec": {
      "name": "ir",
      "display_name": "R"
    },
    "language_info": {
      "name": "R"
    }
  },
  "cells": [
    {
      "cell_type": "code",
      "source": [
        "# Load the dataset directly from a CSV file\n",
        "Customer_Churn <- read.csv(\"/content/Churn dataset.csv\", stringsAsFactors = TRUE, sep = \",\", na.strings = c(\"\", \"NA\"))\n",
        "\n",
        "# Summarize the dataset\n",
        "summary(Customer_Churn)\n",
        "\n",
        "# Remove columns with more than 500,000 null values\n",
        "Customer_Churn <- Customer_Churn[, colSums(is.na(Customer_Churn)) <= 500000]\n",
        "\n",
        "# Remove specific columns (term_reas_code, term_reas_desc, X)\n",
        "Customer_Churn <- Customer_Churn[, !names(Customer_Churn) %in% c(\"term_reas_code\", \"term_reas_desc\", \"X\")]\n",
        "\n",
        "# Remove rows with any missing values\n",
        "Clean_Customer_Churn <- na.omit(Customer_Churn)\n",
        "\n",
        "# Categorize contract months variable every 12 months\n",
        "Clean_Customer_Churn$Contract_Month_Cat <- cut(Clean_Customer_Churn$contract_month,\n",
        "                                              breaks = c(-Inf, 12, 24, 36, 48, 60, Inf),\n",
        "                                              labels = c('0 - 12 Month', '12 - 24 Month', '24 - 36 Month',\n",
        "                                                         '36 - 48 Month', '48 - 60 Month', '60 - 120 Month'),\n",
        "                                              include.lowest = TRUE)\n",
        "\n",
        "Clean_Customer_Churn$Contract_Month_Cat <- as.factor(Clean_Customer_Churn$Contract_Month_Cat)\n",
        "\n",
        "# Categorize tenure months variable every 72 months\n",
        "Clean_Customer_Churn$tenure_Cat <- cut(Clean_Customer_Churn$tenure,\n",
        "                                       breaks = c(-Inf, 72, 144, Inf),\n",
        "                                       labels = c('0 - 72 Month', '72 - 144 Month', '>144 Month'),\n",
        "                                       include.lowest = TRUE)\n",
        "\n",
        "Clean_Customer_Churn$tenure_Cat <- as.factor(Clean_Customer_Churn$tenure_Cat)\n",
        "\n",
        "# Remove unnecessary columns (contract_month, tenure, serv_type, bill_cycl)\n",
        "Clean_Customer_Churn <- Clean_Customer_Churn[, !names(Clean_Customer_Churn) %in% c(\"contract_month\", \"tenure\", \"serv_type\", \"bill_cycl\")]\n",
        "\n",
        "# Save the cleaned data to a new CSV file\n",
        "write.csv(Clean_Customer_Churn, \"/content/cleandataset.csv\", quote = FALSE, row.names = FALSE)\n",
        "\n",
        "# Validation: Load the cleaned data\n",
        "Clean_Customer_Churn <- read.csv(\"/content/cleandataset.csv\", stringsAsFactors = TRUE)\n"
      ],
      "metadata": {
        "colab": {
          "base_uri": "https://localhost:8080/",
          "height": 850
        },
        "id": "g7eeBNa7cmLT",
        "outputId": "2e71e17b-3921-45a9-c582-f72184fd2e33"
      },
      "execution_count": 33,
      "outputs": [
        {
          "output_type": "display_data",
          "data": {
            "text/plain": [
              "     image                         newacct_no     line_stat     bill_cycl\n",
              " Min.   :201801   70068143.001.000000062:    24   AC:494338   Min.   :1  \n",
              " 1st Qu.:201807   70068143.003.000072630:    24   CN:  5503   1st Qu.:1  \n",
              " Median :201901   70071840.001.000000066:    24   IS: 10284   Median :1  \n",
              " Mean   :201858   70071840.003.000060034:    24               Mean   :1  \n",
              " 3rd Qu.:201907   70082185.001.000000083:    24               3rd Qu.:1  \n",
              " Max.   :201912   70101548.001.000000103:    24               Max.   :1  \n",
              "                  (Other)               :509981                          \n",
              " serv_type       serv_code          tenure                  effc_strt_date  \n",
              " BBS:510125   VS100DUN: 94144   Min.   :  0.0   01.08.2018 00:00:00:  4185  \n",
              "              VS100DUR: 70542   1st Qu.: 18.0   01.06.2019 00:00:00:  4159  \n",
              "              PF100DUN: 36517   Median : 45.0   01.11.2019 00:00:00:  3784  \n",
              "              VS100FSN: 33449   Mean   : 60.7   01.08.2019 00:00:00:  3748  \n",
              "              VS100FSR: 24775   3rd Qu.: 95.0   01.04.2019 00:00:00:  3740  \n",
              "              PF100DUR: 22138   Max.   :225.0   (Other)            :488572  \n",
              "              (Other) :228560                   NA's               :  1937  \n",
              "             effc_end_date    contract_month     ce_expiry      \n",
              " 31.07.2020 00:00:00:  4325   Min.   :  0.00   Min.   :-175.00  \n",
              " 31.05.2020 00:00:00:  3955   1st Qu.: 24.00   1st Qu.:   2.00  \n",
              " 31.05.2021 00:00:00:  3938   Median : 24.00   Median :   9.00  \n",
              " 31.10.2020 00:00:00:  3927   Mean   : 24.92   Mean   :   7.39  \n",
              " 31.10.2021 00:00:00:  3849   3rd Qu.: 24.00   3rd Qu.:  16.00  \n",
              " (Other)            :488194   Max.   :120.00   Max.   : 115.00  \n",
              " NA's               :  1937   NA's   :1937     NA's   :1937     \n",
              " secured_revenue          bandwidth      term_reas_code  \n",
              " Min.   : -385.2   100M        :256952   CUCO   :  1969  \n",
              " 1st Qu.:  158.0   100M (FTTO) : 92217   OT     :  1035  \n",
              " Median :  204.0   10M         : 61711   CLB    :   978  \n",
              " Mean   :  504.6   30M         : 52688   REV    :   598  \n",
              " 3rd Qu.:  360.0   1000M (FTTO): 26066   NET    :   378  \n",
              " Max.   :61161.3   300M (FTTO) : 11160   (Other):   565  \n",
              "                   (Other)     :  9331   NA's   :504602  \n",
              "                                                            term_reas_desc  \n",
              " Downsizing / Cut cost                                             :  1969  \n",
              " (R) Overdue Termination: Involuntary termination by credit control:  1035  \n",
              " Closing Business                                                  :   978  \n",
              " Relocate to non-coverage(w/prof)                                  :   598  \n",
              " Network Problem                                                   :   378  \n",
              " (Other)                                                           :   565  \n",
              " NA's                                                              :504602  \n",
              " complaint_cnt    with_phone_service churn      current_mth_churn    X         \n",
              " 0      :498081   0:     3           N:441526   N:504622          Y   :     2  \n",
              " 1      : 10093   N:309580           Y: 68599   Y:  5503          NA's:510123  \n",
              " 2      :  1494   Y:200542                                                     \n",
              " 3      :   288                                                                \n",
              " 4      :    93                                                                \n",
              " 5      :    40                                                                \n",
              " (Other):    36                                                                "
            ]
          },
          "metadata": {}
        }
      ]
    }
  ]
}