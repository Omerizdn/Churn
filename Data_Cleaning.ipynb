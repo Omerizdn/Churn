{
  "nbformat": 4,
  "nbformat_minor": 0,
  "metadata": {
    "colab": {
      "provenance": []
    },
    "kernelspec": {
      "name": "ir",
      "display_name": "R"
    },
    "language_info": {
      "name": "R"
    }
  },
  "cells": [
    {
      "cell_type": "code",
      "source": [
        "Customer_Churn=read.csv(\"/content/Churn dataset.csv\",stringsAsFactors = T, sep = \",\", na.strings = c(\"\",\"NA\"))\n",
        "str(Customer_Churn)\n",
        "summary(Customer_Churn)\n",
        "head(Customer_Churn)\n",
        "dim(Customer_Churn)\n",
        "sum(is.na(Customer_Churn))\n",
        "#Remove columns with more than 500,000 null values\n",
        "sapply(Customer_Churn, function(x) sum(is.na(x)))\n",
        "Customer_Churn$term_reas_code <- NULL\n",
        "Customer_Churn$term_reas_desc <- NULL\n",
        "Customer_Churn$X <- NULL\n",
        "str(Customer_Churn)\n",
        "sapply(Customer_Churn, function(x) sum(is.na(x)))\n",
        "Clean_Customer_Churn <- Customer_Churn[complete.cases(Customer_Churn),]\n",
        "sapply(Clean_Customer_Churn, function(x) sum(is.na(x)))\n",
        "#Categorize contract months variable every 12 months\n",
        "min(Clean_Customer_Churn$contract_month)\n",
        "max(Clean_Customer_Churn$contract_month)\n",
        "Cat_Contract_Month <- function(contract_month){\n",
        "      if(contract_month >= 0 & contract_month <= 12){\n",
        "            return('0 - 12 Month')\n",
        "      }else if(contract_month > 12 & contract_month <= 24){\n",
        "            return('12 - 24 Month')\n",
        "      }else if(contract_month > 24 & contract_month <= 36){\n",
        "            return('24 - 36 Month')\n",
        "      }else if(contract_month > 36 & contract_month <= 48){\n",
        "            return('36 - 48 Month')\n",
        "      }else if(contract_month > 48 & contract_month <= 60){\n",
        "            return('48 - 60 Month')\n",
        "      }else if(contract_month > 60){\n",
        "            return('60 - 120 Month')}\n",
        "}\n",
        "\n",
        "Clean_Customer_Churn$Contract_Month_Cat <- sapply(Clean_Customer_Churn$contract_month, Cat_Contract_Month)\n",
        "Clean_Customer_Churn$Contract_Month_Cat<- as.factor(Clean_Customer_Churn$Contract_Month_Cat)\n",
        "#Categorize tenure months variable every 72 months\n",
        "min(Clean_Customer_Churn$tenure)\n",
        "max(Clean_Customer_Churn$tenure)\n",
        "Cat_tenure <- function(tenure){\n",
        "      if(tenure >= 0 & tenure <= 72){\n",
        "            return('0 - 72 Month')\n",
        "      }else if(tenure > 72 & tenure <= 144){\n",
        "            return('72 - 144 Month')\n",
        "      }else if(tenure > 144){\n",
        "            return('>144 Month')}\n",
        "}\n",
        "\n",
        "Clean_Customer_Churn$tenure_Cat <- sapply(Clean_Customer_Churn$tenure, Cat_tenure)\n",
        "Clean_Customer_Churn$tenure_Cat<- as.factor(Clean_Customer_Churn$tenure_Cat)\n",
        "#Remove Contract_Months & Tenure as we replaced them with categorized ones.Remove Service Type & bill_cycl Coulmns as no change on them\n",
        "Clean_Customer_Churn$contract_month<-NULL\n",
        "Clean_Customer_Churn$tenure<-NULL\n",
        "Clean_Customer_Churn$serv_type<-NULL\n",
        "Clean_Customer_Churn$bill_cycl<-NULL\n",
        "\n",
        "#Saving Clean Data\n",
        "\n",
        "write.table(Clean_Customer_Churn, \"/content/cleandataset.csv\", sep =  \",\",quote = F,row.names = F )\n",
        "#Validation Clean Data written\n",
        "\n",
        "Clean_Customer_Churn=read.csv(\"/content/cleandataset.csv\",stringsAsFactors = T, sep = \",\", na.strings = c(\"\",\"NA\"))\n"
      ],
      "metadata": {
        "colab": {
          "base_uri": "https://localhost:8080/",
          "height": 1000
        },
        "id": "vJt6OxtsaOmj",
        "outputId": "3a16be3f-88dd-4524-a116-3043b8dc28de"
      },
      "execution_count": 30,
      "outputs": [
        {
          "output_type": "stream",
          "name": "stdout",
          "text": [
            "'data.frame':\t510125 obs. of  20 variables:\n",
            " $ image             : int  201801 201801 201801 201801 201801 201801 201801 201801 201801 201801 ...\n",
            " $ newacct_no        : Factor w/ 27605 levels \"70068143.001.000000062\",..: 1 2 10 11 12 13 14 15 17 18 ...\n",
            " $ line_stat         : Factor w/ 3 levels \"AC\",\"CN\",\"IS\": 1 1 1 1 1 1 1 1 1 1 ...\n",
            " $ bill_cycl         : int  1 1 1 1 1 1 1 1 1 1 ...\n",
            " $ serv_type         : Factor w/ 1 level \"BBS\": 1 1 1 1 1 1 1 1 1 1 ...\n",
            " $ serv_code         : Factor w/ 288 levels \"CMHKBBS100\",\"EA2M2MFM3X\",..: 266 250 13 266 100 216 9 216 38 267 ...\n",
            " $ tenure            : int  202 35 202 72 202 80 201 201 201 201 ...\n",
            " $ effc_strt_date    : Factor w/ 2085 levels \"01.01.2011 00:00:00\",..: 384 22 76 494 35 35 37 1959 21 1181 ...\n",
            " $ effc_end_date     : Factor w/ 2348 levels \"01.01.2017 00:00:00\",..: 329 2059 2261 444 2223 2223 2225 2104 2132 1207 ...\n",
            " $ contract_month    : int  36 24 24 24 24 24 24 24 24 24 ...\n",
            " $ ce_expiry         : int  13 13 20 9 -9 -9 15 8 1 -14 ...\n",
            " $ secured_revenue   : num  178 1572 290 218 430 ...\n",
            " $ bandwidth         : Factor w/ 9 levels \"1000M (FTTO)\",..: 2 6 4 2 3 4 4 4 2 2 ...\n",
            " $ term_reas_code    : Factor w/ 26 levels \"BILP\",\"CLB\",\"COM10\",..: NA NA NA NA NA NA NA NA NA NA ...\n",
            " $ term_reas_desc    : Factor w/ 26 levels \"(R) Coverage Issue: Low speed coverage (customer requests 100M)\",..: NA NA NA NA NA NA NA NA NA NA ...\n",
            " $ complaint_cnt     : Factor w/ 9 levels \" customer/ user pass away\",..: 2 2 2 2 2 2 2 2 2 2 ...\n",
            " $ with_phone_service: Factor w/ 3 levels \"0\",\"N\",\"Y\": 2 2 3 3 2 2 2 2 2 2 ...\n",
            " $ churn             : Factor w/ 2 levels \"N\",\"Y\": 1 1 1 1 2 2 1 1 1 2 ...\n",
            " $ current_mth_churn : Factor w/ 2 levels \"N\",\"Y\": 1 1 1 1 1 1 1 1 1 1 ...\n",
            " $ X                 : Factor w/ 1 level \"Y\": NA NA NA NA NA NA NA NA NA NA ...\n"
          ]
        },
        {
          "output_type": "display_data",
          "data": {
            "text/plain": [
              "     image                         newacct_no     line_stat     bill_cycl\n",
              " Min.   :201801   70068143.001.000000062:    24   AC:494338   Min.   :1  \n",
              " 1st Qu.:201807   70068143.003.000072630:    24   CN:  5503   1st Qu.:1  \n",
              " Median :201901   70071840.001.000000066:    24   IS: 10284   Median :1  \n",
              " Mean   :201858   70071840.003.000060034:    24               Mean   :1  \n",
              " 3rd Qu.:201907   70082185.001.000000083:    24               3rd Qu.:1  \n",
              " Max.   :201912   70101548.001.000000103:    24               Max.   :1  \n",
              "                  (Other)               :509981                          \n",
              " serv_type       serv_code          tenure                  effc_strt_date  \n",
              " BBS:510125   VS100DUN: 94144   Min.   :  0.0   01.08.2018 00:00:00:  4185  \n",
              "              VS100DUR: 70542   1st Qu.: 18.0   01.06.2019 00:00:00:  4159  \n",
              "              PF100DUN: 36517   Median : 45.0   01.11.2019 00:00:00:  3784  \n",
              "              VS100FSN: 33449   Mean   : 60.7   01.08.2019 00:00:00:  3748  \n",
              "              VS100FSR: 24775   3rd Qu.: 95.0   01.04.2019 00:00:00:  3740  \n",
              "              PF100DUR: 22138   Max.   :225.0   (Other)            :488572  \n",
              "              (Other) :228560                   NA's               :  1937  \n",
              "             effc_end_date    contract_month     ce_expiry      \n",
              " 31.07.2020 00:00:00:  4325   Min.   :  0.00   Min.   :-175.00  \n",
              " 31.05.2020 00:00:00:  3955   1st Qu.: 24.00   1st Qu.:   2.00  \n",
              " 31.05.2021 00:00:00:  3938   Median : 24.00   Median :   9.00  \n",
              " 31.10.2020 00:00:00:  3927   Mean   : 24.92   Mean   :   7.39  \n",
              " 31.10.2021 00:00:00:  3849   3rd Qu.: 24.00   3rd Qu.:  16.00  \n",
              " (Other)            :488194   Max.   :120.00   Max.   : 115.00  \n",
              " NA's               :  1937   NA's   :1937     NA's   :1937     \n",
              " secured_revenue          bandwidth      term_reas_code  \n",
              " Min.   : -385.2   100M        :256952   CUCO   :  1969  \n",
              " 1st Qu.:  158.0   100M (FTTO) : 92217   OT     :  1035  \n",
              " Median :  204.0   10M         : 61711   CLB    :   978  \n",
              " Mean   :  504.6   30M         : 52688   REV    :   598  \n",
              " 3rd Qu.:  360.0   1000M (FTTO): 26066   NET    :   378  \n",
              " Max.   :61161.3   300M (FTTO) : 11160   (Other):   565  \n",
              "                   (Other)     :  9331   NA's   :504602  \n",
              "                                                            term_reas_desc  \n",
              " Downsizing / Cut cost                                             :  1969  \n",
              " (R) Overdue Termination: Involuntary termination by credit control:  1035  \n",
              " Closing Business                                                  :   978  \n",
              " Relocate to non-coverage(w/prof)                                  :   598  \n",
              " Network Problem                                                   :   378  \n",
              " (Other)                                                           :   565  \n",
              " NA's                                                              :504602  \n",
              " complaint_cnt    with_phone_service churn      current_mth_churn    X         \n",
              " 0      :498081   0:     3           N:441526   N:504622          Y   :     2  \n",
              " 1      : 10093   N:309580           Y: 68599   Y:  5503          NA's:510123  \n",
              " 2      :  1494   Y:200542                                                     \n",
              " 3      :   288                                                                \n",
              " 4      :    93                                                                \n",
              " 5      :    40                                                                \n",
              " (Other):    36                                                                "
            ]
          },
          "metadata": {}
        },
        {
          "output_type": "display_data",
          "data": {
            "text/html": [
              "<table class=\"dataframe\">\n",
              "<caption>A data.frame: 6 × 20</caption>\n",
              "<thead>\n",
              "\t<tr><th></th><th scope=col>image</th><th scope=col>newacct_no</th><th scope=col>line_stat</th><th scope=col>bill_cycl</th><th scope=col>serv_type</th><th scope=col>serv_code</th><th scope=col>tenure</th><th scope=col>effc_strt_date</th><th scope=col>effc_end_date</th><th scope=col>contract_month</th><th scope=col>ce_expiry</th><th scope=col>secured_revenue</th><th scope=col>bandwidth</th><th scope=col>term_reas_code</th><th scope=col>term_reas_desc</th><th scope=col>complaint_cnt</th><th scope=col>with_phone_service</th><th scope=col>churn</th><th scope=col>current_mth_churn</th><th scope=col>X</th></tr>\n",
              "\t<tr><th></th><th scope=col>&lt;int&gt;</th><th scope=col>&lt;fct&gt;</th><th scope=col>&lt;fct&gt;</th><th scope=col>&lt;int&gt;</th><th scope=col>&lt;fct&gt;</th><th scope=col>&lt;fct&gt;</th><th scope=col>&lt;int&gt;</th><th scope=col>&lt;fct&gt;</th><th scope=col>&lt;fct&gt;</th><th scope=col>&lt;int&gt;</th><th scope=col>&lt;int&gt;</th><th scope=col>&lt;dbl&gt;</th><th scope=col>&lt;fct&gt;</th><th scope=col>&lt;fct&gt;</th><th scope=col>&lt;fct&gt;</th><th scope=col>&lt;fct&gt;</th><th scope=col>&lt;fct&gt;</th><th scope=col>&lt;fct&gt;</th><th scope=col>&lt;fct&gt;</th><th scope=col>&lt;fct&gt;</th></tr>\n",
              "</thead>\n",
              "<tbody>\n",
              "\t<tr><th scope=row>1</th><td>201801</td><td>70068143.001.000000062</td><td>AC</td><td>1</td><td>BBS</td><td>VS100DUN   </td><td>202</td><td>06.03.2018 00:00:00</td><td>05.03.2021 00:00:00</td><td>36</td><td>13</td><td> 178</td><td>100M       </td><td>NA</td><td>NA</td><td>0</td><td>N</td><td>N</td><td>N</td><td>NA</td></tr>\n",
              "\t<tr><th scope=row>2</th><td>201801</td><td>70068143.003.000072630</td><td>AC</td><td>1</td><td>BBS</td><td>VS030F6R   </td><td> 35</td><td>01.03.2019 00:00:00</td><td>28.02.2021 00:00:00</td><td>24</td><td>13</td><td>1572</td><td>30M        </td><td>NA</td><td>NA</td><td>0</td><td>N</td><td>N</td><td>N</td><td>NA</td></tr>\n",
              "\t<tr><th scope=row>3</th><td>201801</td><td>70071840.001.000000066</td><td>AC</td><td>1</td><td>BBS</td><td>EAXMXMFSRN1</td><td>202</td><td>01.10.2019 00:00:00</td><td>30.09.2021 00:00:00</td><td>24</td><td>20</td><td> 290</td><td>10M        </td><td>NA</td><td>NA</td><td>0</td><td>Y</td><td>N</td><td>N</td><td>NA</td></tr>\n",
              "\t<tr><th scope=row>4</th><td>201801</td><td>70071840.003.000060034</td><td>AC</td><td>1</td><td>BBS</td><td>VS100DUN   </td><td> 72</td><td>07.11.2018 00:00:00</td><td>06.11.2020 00:00:00</td><td>24</td><td> 9</td><td> 218</td><td>100M       </td><td>NA</td><td>NA</td><td>0</td><td>Y</td><td>N</td><td>N</td><td>NA</td></tr>\n",
              "\t<tr><th scope=row>5</th><td>201801</td><td>70076500.001.000000073</td><td>AC</td><td>1</td><td>BBS</td><td>PF100FSR   </td><td>202</td><td>01.05.2017 00:00:00</td><td>30.04.2019 00:00:00</td><td>24</td><td>-9</td><td> 430</td><td>100M (FTTO)</td><td>NA</td><td>NA</td><td>0</td><td>N</td><td>Y</td><td>N</td><td>NA</td></tr>\n",
              "\t<tr><th scope=row>6</th><td>201801</td><td>70076500.004.000057640</td><td>AC</td><td>1</td><td>BBS</td><td>VAXMXMFSRN1</td><td> 80</td><td>01.05.2017 00:00:00</td><td>30.04.2019 00:00:00</td><td>24</td><td>-9</td><td> 245</td><td>10M        </td><td>NA</td><td>NA</td><td>0</td><td>N</td><td>Y</td><td>N</td><td>NA</td></tr>\n",
              "</tbody>\n",
              "</table>\n"
            ],
            "text/markdown": "\nA data.frame: 6 × 20\n\n| <!--/--> | image &lt;int&gt; | newacct_no &lt;fct&gt; | line_stat &lt;fct&gt; | bill_cycl &lt;int&gt; | serv_type &lt;fct&gt; | serv_code &lt;fct&gt; | tenure &lt;int&gt; | effc_strt_date &lt;fct&gt; | effc_end_date &lt;fct&gt; | contract_month &lt;int&gt; | ce_expiry &lt;int&gt; | secured_revenue &lt;dbl&gt; | bandwidth &lt;fct&gt; | term_reas_code &lt;fct&gt; | term_reas_desc &lt;fct&gt; | complaint_cnt &lt;fct&gt; | with_phone_service &lt;fct&gt; | churn &lt;fct&gt; | current_mth_churn &lt;fct&gt; | X &lt;fct&gt; |\n|---|---|---|---|---|---|---|---|---|---|---|---|---|---|---|---|---|---|---|---|---|\n| 1 | 201801 | 70068143.001.000000062 | AC | 1 | BBS | VS100DUN    | 202 | 06.03.2018 00:00:00 | 05.03.2021 00:00:00 | 36 | 13 |  178 | 100M        | NA | NA | 0 | N | N | N | NA |\n| 2 | 201801 | 70068143.003.000072630 | AC | 1 | BBS | VS030F6R    |  35 | 01.03.2019 00:00:00 | 28.02.2021 00:00:00 | 24 | 13 | 1572 | 30M         | NA | NA | 0 | N | N | N | NA |\n| 3 | 201801 | 70071840.001.000000066 | AC | 1 | BBS | EAXMXMFSRN1 | 202 | 01.10.2019 00:00:00 | 30.09.2021 00:00:00 | 24 | 20 |  290 | 10M         | NA | NA | 0 | Y | N | N | NA |\n| 4 | 201801 | 70071840.003.000060034 | AC | 1 | BBS | VS100DUN    |  72 | 07.11.2018 00:00:00 | 06.11.2020 00:00:00 | 24 |  9 |  218 | 100M        | NA | NA | 0 | Y | N | N | NA |\n| 5 | 201801 | 70076500.001.000000073 | AC | 1 | BBS | PF100FSR    | 202 | 01.05.2017 00:00:00 | 30.04.2019 00:00:00 | 24 | -9 |  430 | 100M (FTTO) | NA | NA | 0 | N | Y | N | NA |\n| 6 | 201801 | 70076500.004.000057640 | AC | 1 | BBS | VAXMXMFSRN1 |  80 | 01.05.2017 00:00:00 | 30.04.2019 00:00:00 | 24 | -9 |  245 | 10M         | NA | NA | 0 | N | Y | N | NA |\n\n",
            "text/latex": "A data.frame: 6 × 20\n\\begin{tabular}{r|llllllllllllllllllll}\n  & image & newacct\\_no & line\\_stat & bill\\_cycl & serv\\_type & serv\\_code & tenure & effc\\_strt\\_date & effc\\_end\\_date & contract\\_month & ce\\_expiry & secured\\_revenue & bandwidth & term\\_reas\\_code & term\\_reas\\_desc & complaint\\_cnt & with\\_phone\\_service & churn & current\\_mth\\_churn & X\\\\\n  & <int> & <fct> & <fct> & <int> & <fct> & <fct> & <int> & <fct> & <fct> & <int> & <int> & <dbl> & <fct> & <fct> & <fct> & <fct> & <fct> & <fct> & <fct> & <fct>\\\\\n\\hline\n\t1 & 201801 & 70068143.001.000000062 & AC & 1 & BBS & VS100DUN    & 202 & 06.03.2018 00:00:00 & 05.03.2021 00:00:00 & 36 & 13 &  178 & 100M        & NA & NA & 0 & N & N & N & NA\\\\\n\t2 & 201801 & 70068143.003.000072630 & AC & 1 & BBS & VS030F6R    &  35 & 01.03.2019 00:00:00 & 28.02.2021 00:00:00 & 24 & 13 & 1572 & 30M         & NA & NA & 0 & N & N & N & NA\\\\\n\t3 & 201801 & 70071840.001.000000066 & AC & 1 & BBS & EAXMXMFSRN1 & 202 & 01.10.2019 00:00:00 & 30.09.2021 00:00:00 & 24 & 20 &  290 & 10M         & NA & NA & 0 & Y & N & N & NA\\\\\n\t4 & 201801 & 70071840.003.000060034 & AC & 1 & BBS & VS100DUN    &  72 & 07.11.2018 00:00:00 & 06.11.2020 00:00:00 & 24 &  9 &  218 & 100M        & NA & NA & 0 & Y & N & N & NA\\\\\n\t5 & 201801 & 70076500.001.000000073 & AC & 1 & BBS & PF100FSR    & 202 & 01.05.2017 00:00:00 & 30.04.2019 00:00:00 & 24 & -9 &  430 & 100M (FTTO) & NA & NA & 0 & N & Y & N & NA\\\\\n\t6 & 201801 & 70076500.004.000057640 & AC & 1 & BBS & VAXMXMFSRN1 &  80 & 01.05.2017 00:00:00 & 30.04.2019 00:00:00 & 24 & -9 &  245 & 10M         & NA & NA & 0 & N & Y & N & NA\\\\\n\\end{tabular}\n",
            "text/plain": [
              "  image  newacct_no             line_stat bill_cycl serv_type serv_code  \n",
              "1 201801 70068143.001.000000062 AC        1         BBS       VS100DUN   \n",
              "2 201801 70068143.003.000072630 AC        1         BBS       VS030F6R   \n",
              "3 201801 70071840.001.000000066 AC        1         BBS       EAXMXMFSRN1\n",
              "4 201801 70071840.003.000060034 AC        1         BBS       VS100DUN   \n",
              "5 201801 70076500.001.000000073 AC        1         BBS       PF100FSR   \n",
              "6 201801 70076500.004.000057640 AC        1         BBS       VAXMXMFSRN1\n",
              "  tenure effc_strt_date      effc_end_date       contract_month ce_expiry\n",
              "1 202    06.03.2018 00:00:00 05.03.2021 00:00:00 36             13       \n",
              "2  35    01.03.2019 00:00:00 28.02.2021 00:00:00 24             13       \n",
              "3 202    01.10.2019 00:00:00 30.09.2021 00:00:00 24             20       \n",
              "4  72    07.11.2018 00:00:00 06.11.2020 00:00:00 24              9       \n",
              "5 202    01.05.2017 00:00:00 30.04.2019 00:00:00 24             -9       \n",
              "6  80    01.05.2017 00:00:00 30.04.2019 00:00:00 24             -9       \n",
              "  secured_revenue bandwidth   term_reas_code term_reas_desc complaint_cnt\n",
              "1  178            100M        NA             NA             0            \n",
              "2 1572            30M         NA             NA             0            \n",
              "3  290            10M         NA             NA             0            \n",
              "4  218            100M        NA             NA             0            \n",
              "5  430            100M (FTTO) NA             NA             0            \n",
              "6  245            10M         NA             NA             0            \n",
              "  with_phone_service churn current_mth_churn X \n",
              "1 N                  N     N                 NA\n",
              "2 N                  N     N                 NA\n",
              "3 Y                  N     N                 NA\n",
              "4 Y                  N     N                 NA\n",
              "5 N                  Y     N                 NA\n",
              "6 N                  Y     N                 NA"
            ]
          },
          "metadata": {}
        },
        {
          "output_type": "display_data",
          "data": {
            "text/html": [
              "<style>\n",
              ".list-inline {list-style: none; margin:0; padding: 0}\n",
              ".list-inline>li {display: inline-block}\n",
              ".list-inline>li:not(:last-child)::after {content: \"\\00b7\"; padding: 0 .5ex}\n",
              "</style>\n",
              "<ol class=list-inline><li>510125</li><li>20</li></ol>\n"
            ],
            "text/markdown": "1. 510125\n2. 20\n\n\n",
            "text/latex": "\\begin{enumerate*}\n\\item 510125\n\\item 20\n\\end{enumerate*}\n",
            "text/plain": [
              "[1] 510125     20"
            ]
          },
          "metadata": {}
        },
        {
          "output_type": "display_data",
          "data": {
            "text/html": [
              "1527075"
            ],
            "text/markdown": "1527075",
            "text/latex": "1527075",
            "text/plain": [
              "[1] 1527075"
            ]
          },
          "metadata": {}
        },
        {
          "output_type": "display_data",
          "data": {
            "text/html": [
              "<style>\n",
              ".dl-inline {width: auto; margin:0; padding: 0}\n",
              ".dl-inline>dt, .dl-inline>dd {float: none; width: auto; display: inline-block}\n",
              ".dl-inline>dt::after {content: \":\\0020\"; padding-right: .5ex}\n",
              ".dl-inline>dt:not(:first-of-type) {padding-left: .5ex}\n",
              "</style><dl class=dl-inline><dt>image</dt><dd>0</dd><dt>newacct_no</dt><dd>0</dd><dt>line_stat</dt><dd>0</dd><dt>bill_cycl</dt><dd>0</dd><dt>serv_type</dt><dd>0</dd><dt>serv_code</dt><dd>0</dd><dt>tenure</dt><dd>0</dd><dt>effc_strt_date</dt><dd>1937</dd><dt>effc_end_date</dt><dd>1937</dd><dt>contract_month</dt><dd>1937</dd><dt>ce_expiry</dt><dd>1937</dd><dt>secured_revenue</dt><dd>0</dd><dt>bandwidth</dt><dd>0</dd><dt>term_reas_code</dt><dd>504602</dd><dt>term_reas_desc</dt><dd>504602</dd><dt>complaint_cnt</dt><dd>0</dd><dt>with_phone_service</dt><dd>0</dd><dt>churn</dt><dd>0</dd><dt>current_mth_churn</dt><dd>0</dd><dt>X</dt><dd>510123</dd></dl>\n"
            ],
            "text/markdown": "image\n:   0newacct_no\n:   0line_stat\n:   0bill_cycl\n:   0serv_type\n:   0serv_code\n:   0tenure\n:   0effc_strt_date\n:   1937effc_end_date\n:   1937contract_month\n:   1937ce_expiry\n:   1937secured_revenue\n:   0bandwidth\n:   0term_reas_code\n:   504602term_reas_desc\n:   504602complaint_cnt\n:   0with_phone_service\n:   0churn\n:   0current_mth_churn\n:   0X\n:   510123\n\n",
            "text/latex": "\\begin{description*}\n\\item[image] 0\n\\item[newacct\\textbackslash{}\\_no] 0\n\\item[line\\textbackslash{}\\_stat] 0\n\\item[bill\\textbackslash{}\\_cycl] 0\n\\item[serv\\textbackslash{}\\_type] 0\n\\item[serv\\textbackslash{}\\_code] 0\n\\item[tenure] 0\n\\item[effc\\textbackslash{}\\_strt\\textbackslash{}\\_date] 1937\n\\item[effc\\textbackslash{}\\_end\\textbackslash{}\\_date] 1937\n\\item[contract\\textbackslash{}\\_month] 1937\n\\item[ce\\textbackslash{}\\_expiry] 1937\n\\item[secured\\textbackslash{}\\_revenue] 0\n\\item[bandwidth] 0\n\\item[term\\textbackslash{}\\_reas\\textbackslash{}\\_code] 504602\n\\item[term\\textbackslash{}\\_reas\\textbackslash{}\\_desc] 504602\n\\item[complaint\\textbackslash{}\\_cnt] 0\n\\item[with\\textbackslash{}\\_phone\\textbackslash{}\\_service] 0\n\\item[churn] 0\n\\item[current\\textbackslash{}\\_mth\\textbackslash{}\\_churn] 0\n\\item[X] 510123\n\\end{description*}\n",
            "text/plain": [
              "             image         newacct_no          line_stat          bill_cycl \n",
              "                 0                  0                  0                  0 \n",
              "         serv_type          serv_code             tenure     effc_strt_date \n",
              "                 0                  0                  0               1937 \n",
              "     effc_end_date     contract_month          ce_expiry    secured_revenue \n",
              "              1937               1937               1937                  0 \n",
              "         bandwidth     term_reas_code     term_reas_desc      complaint_cnt \n",
              "                 0             504602             504602                  0 \n",
              "with_phone_service              churn  current_mth_churn                  X \n",
              "                 0                  0                  0             510123 "
            ]
          },
          "metadata": {}
        },
        {
          "output_type": "stream",
          "name": "stdout",
          "text": [
            "'data.frame':\t510125 obs. of  17 variables:\n",
            " $ image             : int  201801 201801 201801 201801 201801 201801 201801 201801 201801 201801 ...\n",
            " $ newacct_no        : Factor w/ 27605 levels \"70068143.001.000000062\",..: 1 2 10 11 12 13 14 15 17 18 ...\n",
            " $ line_stat         : Factor w/ 3 levels \"AC\",\"CN\",\"IS\": 1 1 1 1 1 1 1 1 1 1 ...\n",
            " $ bill_cycl         : int  1 1 1 1 1 1 1 1 1 1 ...\n",
            " $ serv_type         : Factor w/ 1 level \"BBS\": 1 1 1 1 1 1 1 1 1 1 ...\n",
            " $ serv_code         : Factor w/ 288 levels \"CMHKBBS100\",\"EA2M2MFM3X\",..: 266 250 13 266 100 216 9 216 38 267 ...\n",
            " $ tenure            : int  202 35 202 72 202 80 201 201 201 201 ...\n",
            " $ effc_strt_date    : Factor w/ 2085 levels \"01.01.2011 00:00:00\",..: 384 22 76 494 35 35 37 1959 21 1181 ...\n",
            " $ effc_end_date     : Factor w/ 2348 levels \"01.01.2017 00:00:00\",..: 329 2059 2261 444 2223 2223 2225 2104 2132 1207 ...\n",
            " $ contract_month    : int  36 24 24 24 24 24 24 24 24 24 ...\n",
            " $ ce_expiry         : int  13 13 20 9 -9 -9 15 8 1 -14 ...\n",
            " $ secured_revenue   : num  178 1572 290 218 430 ...\n",
            " $ bandwidth         : Factor w/ 9 levels \"1000M (FTTO)\",..: 2 6 4 2 3 4 4 4 2 2 ...\n",
            " $ complaint_cnt     : Factor w/ 9 levels \" customer/ user pass away\",..: 2 2 2 2 2 2 2 2 2 2 ...\n",
            " $ with_phone_service: Factor w/ 3 levels \"0\",\"N\",\"Y\": 2 2 3 3 2 2 2 2 2 2 ...\n",
            " $ churn             : Factor w/ 2 levels \"N\",\"Y\": 1 1 1 1 2 2 1 1 1 2 ...\n",
            " $ current_mth_churn : Factor w/ 2 levels \"N\",\"Y\": 1 1 1 1 1 1 1 1 1 1 ...\n"
          ]
        },
        {
          "output_type": "display_data",
          "data": {
            "text/html": [
              "<style>\n",
              ".dl-inline {width: auto; margin:0; padding: 0}\n",
              ".dl-inline>dt, .dl-inline>dd {float: none; width: auto; display: inline-block}\n",
              ".dl-inline>dt::after {content: \":\\0020\"; padding-right: .5ex}\n",
              ".dl-inline>dt:not(:first-of-type) {padding-left: .5ex}\n",
              "</style><dl class=dl-inline><dt>image</dt><dd>0</dd><dt>newacct_no</dt><dd>0</dd><dt>line_stat</dt><dd>0</dd><dt>bill_cycl</dt><dd>0</dd><dt>serv_type</dt><dd>0</dd><dt>serv_code</dt><dd>0</dd><dt>tenure</dt><dd>0</dd><dt>effc_strt_date</dt><dd>1937</dd><dt>effc_end_date</dt><dd>1937</dd><dt>contract_month</dt><dd>1937</dd><dt>ce_expiry</dt><dd>1937</dd><dt>secured_revenue</dt><dd>0</dd><dt>bandwidth</dt><dd>0</dd><dt>complaint_cnt</dt><dd>0</dd><dt>with_phone_service</dt><dd>0</dd><dt>churn</dt><dd>0</dd><dt>current_mth_churn</dt><dd>0</dd></dl>\n"
            ],
            "text/markdown": "image\n:   0newacct_no\n:   0line_stat\n:   0bill_cycl\n:   0serv_type\n:   0serv_code\n:   0tenure\n:   0effc_strt_date\n:   1937effc_end_date\n:   1937contract_month\n:   1937ce_expiry\n:   1937secured_revenue\n:   0bandwidth\n:   0complaint_cnt\n:   0with_phone_service\n:   0churn\n:   0current_mth_churn\n:   0\n\n",
            "text/latex": "\\begin{description*}\n\\item[image] 0\n\\item[newacct\\textbackslash{}\\_no] 0\n\\item[line\\textbackslash{}\\_stat] 0\n\\item[bill\\textbackslash{}\\_cycl] 0\n\\item[serv\\textbackslash{}\\_type] 0\n\\item[serv\\textbackslash{}\\_code] 0\n\\item[tenure] 0\n\\item[effc\\textbackslash{}\\_strt\\textbackslash{}\\_date] 1937\n\\item[effc\\textbackslash{}\\_end\\textbackslash{}\\_date] 1937\n\\item[contract\\textbackslash{}\\_month] 1937\n\\item[ce\\textbackslash{}\\_expiry] 1937\n\\item[secured\\textbackslash{}\\_revenue] 0\n\\item[bandwidth] 0\n\\item[complaint\\textbackslash{}\\_cnt] 0\n\\item[with\\textbackslash{}\\_phone\\textbackslash{}\\_service] 0\n\\item[churn] 0\n\\item[current\\textbackslash{}\\_mth\\textbackslash{}\\_churn] 0\n\\end{description*}\n",
            "text/plain": [
              "             image         newacct_no          line_stat          bill_cycl \n",
              "                 0                  0                  0                  0 \n",
              "         serv_type          serv_code             tenure     effc_strt_date \n",
              "                 0                  0                  0               1937 \n",
              "     effc_end_date     contract_month          ce_expiry    secured_revenue \n",
              "              1937               1937               1937                  0 \n",
              "         bandwidth      complaint_cnt with_phone_service              churn \n",
              "                 0                  0                  0                  0 \n",
              " current_mth_churn \n",
              "                 0 "
            ]
          },
          "metadata": {}
        },
        {
          "output_type": "display_data",
          "data": {
            "text/html": [
              "<style>\n",
              ".dl-inline {width: auto; margin:0; padding: 0}\n",
              ".dl-inline>dt, .dl-inline>dd {float: none; width: auto; display: inline-block}\n",
              ".dl-inline>dt::after {content: \":\\0020\"; padding-right: .5ex}\n",
              ".dl-inline>dt:not(:first-of-type) {padding-left: .5ex}\n",
              "</style><dl class=dl-inline><dt>image</dt><dd>0</dd><dt>newacct_no</dt><dd>0</dd><dt>line_stat</dt><dd>0</dd><dt>bill_cycl</dt><dd>0</dd><dt>serv_type</dt><dd>0</dd><dt>serv_code</dt><dd>0</dd><dt>tenure</dt><dd>0</dd><dt>effc_strt_date</dt><dd>0</dd><dt>effc_end_date</dt><dd>0</dd><dt>contract_month</dt><dd>0</dd><dt>ce_expiry</dt><dd>0</dd><dt>secured_revenue</dt><dd>0</dd><dt>bandwidth</dt><dd>0</dd><dt>complaint_cnt</dt><dd>0</dd><dt>with_phone_service</dt><dd>0</dd><dt>churn</dt><dd>0</dd><dt>current_mth_churn</dt><dd>0</dd></dl>\n"
            ],
            "text/markdown": "image\n:   0newacct_no\n:   0line_stat\n:   0bill_cycl\n:   0serv_type\n:   0serv_code\n:   0tenure\n:   0effc_strt_date\n:   0effc_end_date\n:   0contract_month\n:   0ce_expiry\n:   0secured_revenue\n:   0bandwidth\n:   0complaint_cnt\n:   0with_phone_service\n:   0churn\n:   0current_mth_churn\n:   0\n\n",
            "text/latex": "\\begin{description*}\n\\item[image] 0\n\\item[newacct\\textbackslash{}\\_no] 0\n\\item[line\\textbackslash{}\\_stat] 0\n\\item[bill\\textbackslash{}\\_cycl] 0\n\\item[serv\\textbackslash{}\\_type] 0\n\\item[serv\\textbackslash{}\\_code] 0\n\\item[tenure] 0\n\\item[effc\\textbackslash{}\\_strt\\textbackslash{}\\_date] 0\n\\item[effc\\textbackslash{}\\_end\\textbackslash{}\\_date] 0\n\\item[contract\\textbackslash{}\\_month] 0\n\\item[ce\\textbackslash{}\\_expiry] 0\n\\item[secured\\textbackslash{}\\_revenue] 0\n\\item[bandwidth] 0\n\\item[complaint\\textbackslash{}\\_cnt] 0\n\\item[with\\textbackslash{}\\_phone\\textbackslash{}\\_service] 0\n\\item[churn] 0\n\\item[current\\textbackslash{}\\_mth\\textbackslash{}\\_churn] 0\n\\end{description*}\n",
            "text/plain": [
              "             image         newacct_no          line_stat          bill_cycl \n",
              "                 0                  0                  0                  0 \n",
              "         serv_type          serv_code             tenure     effc_strt_date \n",
              "                 0                  0                  0                  0 \n",
              "     effc_end_date     contract_month          ce_expiry    secured_revenue \n",
              "                 0                  0                  0                  0 \n",
              "         bandwidth      complaint_cnt with_phone_service              churn \n",
              "                 0                  0                  0                  0 \n",
              " current_mth_churn \n",
              "                 0 "
            ]
          },
          "metadata": {}
        },
        {
          "output_type": "display_data",
          "data": {
            "text/html": [
              "0"
            ],
            "text/markdown": "0",
            "text/latex": "0",
            "text/plain": [
              "[1] 0"
            ]
          },
          "metadata": {}
        },
        {
          "output_type": "display_data",
          "data": {
            "text/html": [
              "120"
            ],
            "text/markdown": "120",
            "text/latex": "120",
            "text/plain": [
              "[1] 120"
            ]
          },
          "metadata": {}
        },
        {
          "output_type": "display_data",
          "data": {
            "text/html": [
              "0"
            ],
            "text/markdown": "0",
            "text/latex": "0",
            "text/plain": [
              "[1] 0"
            ]
          },
          "metadata": {}
        },
        {
          "output_type": "display_data",
          "data": {
            "text/html": [
              "225"
            ],
            "text/markdown": "225",
            "text/latex": "225",
            "text/plain": [
              "[1] 225"
            ]
          },
          "metadata": {}
        }
      ]
    }
  ]
}